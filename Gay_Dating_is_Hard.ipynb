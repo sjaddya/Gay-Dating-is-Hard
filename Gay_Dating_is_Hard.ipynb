{
  "nbformat": 4,
  "nbformat_minor": 0,
  "metadata": {
    "colab": {
      "name": "Gay Dating is Hard.ipynb",
      "provenance": [],
      "collapsed_sections": []
    },
    "kernelspec": {
      "name": "python3",
      "display_name": "Python 3"
    },
    "accelerator": "GPU"
  },
  "cells": [
    {
      "cell_type": "markdown",
      "metadata": {
        "id": "vvgkLyTGuEzr"
      },
      "source": [
        "# Just for fun"
      ]
    },
    {
      "cell_type": "markdown",
      "metadata": {
        "id": "bqdew-SmuTb_"
      },
      "source": [
        "## To see how hard is gay dating "
      ]
    },
    {
      "cell_type": "markdown",
      "metadata": {
        "id": "R3-N94cvqmhh"
      },
      "source": [
        "### Gay Dating"
      ]
    },
    {
      "cell_type": "code",
      "metadata": {
        "id": "NgmZNrWTuJKG"
      },
      "source": [
        "import numpy as np\n",
        "import pandas as pd\n",
        "import matplotlib.pyplot as plt\n",
        "import random\n",
        "%matplotlib inline"
      ],
      "execution_count": 2,
      "outputs": []
    },
    {
      "cell_type": "code",
      "metadata": {
        "id": "sWHwZ-j3uOzc"
      },
      "source": [
        "class GayDating():\n",
        "\n",
        "  def __init__(self, radius, preference):\n",
        "\n",
        "    ## Getting 6 different city\n",
        "    self.city_names = ['Kolkata', 'Mumbai', 'Delhi', 'San Fransisco', 'New York', 'Los Angeles']\n",
        "    #Getting population in Million\n",
        "    self.population = [4.5, 12.48, 16.78, 0.88, 8.6, 3.97]\n",
        "    #Getting area in sq Km\n",
        "    self.area = [206.8, 603.0, 1484.0, 121.51, 468.19, 502.73] \n",
        "\n",
        "\n",
        "    #Getting population density in Million / sq. Km\n",
        "    self.population_density = np.divide(self.population, self.area) \n",
        "    #Getting datable area, input by user\n",
        "    self.datable_area = (22/7) * radius * radius \n",
        "    #Getting population within the area in Million\n",
        "    self.datable_population_No = np.array(self.population_density) * self.datable_area \n",
        "    #Percentage of gay people, not LGBTQ\n",
        "    self.percentage_gay = [.22, .22, .22, 5.54, 1.62, 2.02] \n",
        "    #Getting datable population in the area in Million\n",
        "    self.datable_population = np.array(np.multiply(self.datable_population_No, self.percentage_gay)) / 100 \n",
        "\n",
        "\n",
        "    #Getting preference of the user\n",
        "    self.preference = preference\n",
        "    #Set percentage of tops, bottoms, vers and unknown\n",
        "    self.preference_dict = {'b' : 21, 't' : 19, 'v' : 35, 'a' : 25}\n",
        "    #getting the percentage of \n",
        "    self.per  = 0\n",
        "    if self.preference == 'b':\n",
        "      self.per = self.preference_dict['t'] + self.preference_dict['v'] * random.random() + self.preference_dict['a'] * random.random() + self.preference_dict['b'] * random.random()/10\n",
        "    if self.preference == 't':\n",
        "      self.per = self.preference_dict['b'] + self.preference_dict['v'] * random.random() + self.preference_dict['a'] * random.random() + self.preference_dict['t'] * random.random()/10\n",
        "    if self.preference == 'v':\n",
        "      self.per = self.preference_dict['t'] + self.preference_dict['v'] + self.preference_dict['a'] * random.random() + self.preference_dict['b']\n",
        "\n",
        "    #Getting datable population with preference in Million\n",
        "    self.datable_population_pref = np.array(self.datable_population) * self.per / 100\n",
        "    self.datable_array = self.datable_population_pref\n",
        "\n",
        "    #Age data\n",
        "    I18_24 = 11.13 / (24 - 18 + 1)\n",
        "    I25_44 = 27.6 / (44 - 25 + 1)\n",
        "    I45_64 = 13.5 / (64 - 45 + 1)\n",
        "    I65_80 = 4.8 / (80 - 65 + 1)\n",
        "    A18_24 = 9.9 / (24 - 18 + 1)\n",
        "    A25_44 = 26.6 / (44 - 25 + 1)\n",
        "    A45_64 = 26.4 / (64 - 45 + 1)\n",
        "    A65_80 = 13.0 / (80 - 65 + 1)\n",
        "\n",
        "    self.age_data = [[18, I18_24, A18_24], [19, I18_24, A18_24], [20, I18_24, A18_24], [21, I18_24, A18_24], [22, I18_24, A18_24], [23, I18_24, A18_24], [24, I18_24, A18_24],\n",
        "            [25, I25_44, A25_44], [26, I25_44, A25_44], [27, I25_44, A25_44], [28, I25_44, A25_44], [29, I25_44, A25_44], [30, I25_44, A25_44], [31, I25_44, A25_44], [32, I25_44, A25_44],\n",
        "            [33, I25_44, A25_44], [34, I25_44, A25_44], [35, I25_44, A25_44], [36, I25_44, A25_44], [37, I25_44, A25_44], [38, I25_44, A25_44], [39, I25_44, A25_44], [40, I25_44, A25_44],\n",
        "            [41, I25_44, A25_44], [42, I25_44, A25_44], [43, I25_44, A25_44], [44, I25_44, A25_44], \n",
        "            [45, I45_64, A45_64], [46, I45_64, A45_64], [47, I45_64, A45_64], [48, I45_64, A45_64], [49, I45_64, A45_64], [50, I45_64, A45_64], [51, I45_64, A45_64], [52, I45_64, A45_64],\n",
        "            [53, I45_64, A45_64], [54, I45_64, A45_64], [55, I45_64, A45_64], [56, I45_64, A45_64], [57, I45_64, A45_64], [58, I45_64, A45_64], [59, I45_64, A45_64], [60, I45_64, A45_64],\n",
        "            [61, I45_64, A45_64], [62, I45_64, A45_64], [63, I45_64, A45_64], [64, I45_64, A45_64],\n",
        "            [65, I65_80, A65_80], [66, I65_80, A65_80], [67, I65_80, A65_80], [68, I65_80, A65_80], [69, I65_80, A65_80], [70, I65_80, A65_80], [71, I65_80, A65_80], [72, I65_80, A65_80],\n",
        "            [73, I65_80, A65_80], [74, I65_80, A65_80], [75, I65_80, A65_80], [76, I65_80, A65_80], [77, I65_80, A65_80], [78, I65_80, A65_80], [79, I65_80, A65_80], [80, I65_80, A65_80]]\n",
        "    self.age_df = pd.DataFrame(self.age_data, columns=['age', 'india_per', 'usa_per'])\n",
        "    #print(self.age_df)\n",
        "\n",
        "  def marraige(self, decision):\n",
        "    #https://www.prnewswire.com/news-releases/match-releases-new-study-on-lgbtq-single-population-300273510.html\n",
        "    if decision == 'y':\n",
        "      self.datable_array = np.array(self.datable_array) * 63 / 100   #According to match.com 63% of LGBT want to get marry, others do not\n",
        "    elif decision == 'n':\n",
        "      self.datable_array = np.array(self.datable_array) * 25 / 100\n",
        "    elif decision == 'ns':\n",
        "      self.datable_array = np.array(self.datable_array) * 12 / 100\n",
        "\n",
        "  def want_kid(self, decision):\n",
        "    #https://www.prnewswire.com/news-releases/match-releases-new-study-on-lgbtq-single-population-300273510.html\n",
        "    if decision == 'y':\n",
        "      self.datable_array = np.array(self.datable_array) * 36 / 100\n",
        "    else:\n",
        "      self.datable_array = np.array(self.datable_array) * 64 / 100\n",
        "\n",
        "  def type_of_realtionship(self, decision):\n",
        "    #https://www.thecouplesstudy.com/wp-content/uploads/2016/08/CHOICES-Younger-Gay-Men-final-160812.pdf\n",
        "    if decision == 'monogamy':\n",
        "      self.datable_array = np.array(self.datable_array) * 83.5 / 100\n",
        "    elif decision == 'non':\n",
        "      self.datable_array = np.array(self.datable_array) * 16.5 / 100\n",
        "\n",
        "  def age_range(self, low, high):\n",
        "    #https://www.census.gov/prod/cen2010/briefs/c2010br-03.pdf\n",
        "    #https://censusindia.gov.in/Census_And_You/age_structure_and_marital_status.aspx\n",
        "    if low < 18:\n",
        "      return 0\n",
        "    else:\n",
        "      self.per_i = 0\n",
        "      self.per_a = 0\n",
        "      for i in range(low,high + 1):\n",
        "        self.per_i = self.per_i + float(self.age_df[self.age_df['age'] == i]['india_per'])\n",
        "        self.per_a = self.per_a + float(self.age_df[self.age_df['age'] == i]['usa_per'])\n",
        "      \n",
        "      self.age_per = [self.per_i, self.per_i, self.per_i, self.per_a, self.per_a, self.per_a]\n",
        "      self.datable_array = np.array(np.multiply(self.datable_array, self.age_per)) / 100\n",
        "\n",
        "  def r(self):\n",
        "    return self.datable_array"
      ],
      "execution_count": 14,
      "outputs": []
    },
    {
      "cell_type": "code",
      "metadata": {
        "id": "ML8lWMSqkTfN"
      },
      "source": [
        "#Input a number for the radius in which you would wanna data\n",
        "#Input your preference t = top, v = vers, b = bottom\n",
        "obj = GayDating(radius = 5, preference = 't')"
      ],
      "execution_count": 21,
      "outputs": []
    },
    {
      "cell_type": "code",
      "metadata": {
        "id": "vABJ0l81mS7A"
      },
      "source": [
        "#Input your decision to marry\n",
        "# y for yes, n for no, ns for not sure\n",
        "obj.marraige(decision = 'y')"
      ],
      "execution_count": 22,
      "outputs": []
    },
    {
      "cell_type": "code",
      "metadata": {
        "id": "bI28yHJfmyqi"
      },
      "source": [
        "#Input your decision to have kids\n",
        "# y for yes, n for no\n",
        "obj.want_kid(decision = 'y')"
      ],
      "execution_count": 23,
      "outputs": []
    },
    {
      "cell_type": "code",
      "metadata": {
        "id": "liF28Wclm5PJ"
      },
      "source": [
        "#Input the type of realtionship\n",
        "#monogamy for monogamy, non for non-monogamy\n",
        "obj.type_of_realtionship(decision = 'monogamy')"
      ],
      "execution_count": 24,
      "outputs": []
    },
    {
      "cell_type": "code",
      "metadata": {
        "id": "1gVBL8CInJDe"
      },
      "source": [
        "#Input the age range you would wanna date\n",
        "obj.age_range(19, 26)"
      ],
      "execution_count": 25,
      "outputs": []
    },
    {
      "cell_type": "code",
      "metadata": {
        "colab": {
          "base_uri": "https://localhost:8080/"
        },
        "id": "B-wPKm9_nREW",
        "outputId": "68aa5b44-4080-41d7-e271-d4bdca2de4d3"
      },
      "source": [
        "n = obj.r()\n",
        "n = np.array(n) * 1000000\n",
        "print(n)"
      ],
      "execution_count": 26,
      "outputs": [
        {
          "output_type": "stream",
          "text": [
            "[ 47.25664537  44.94673846  24.55607579 358.89006765 266.17812143\n",
            " 142.68821247]\n"
          ],
          "name": "stdout"
        }
      ]
    },
    {
      "cell_type": "markdown",
      "metadata": {
        "id": "u5UdNT-Bqquk"
      },
      "source": [
        "### Str8 Dating"
      ]
    },
    {
      "cell_type": "code",
      "metadata": {
        "id": "Nfcz3YtEnfot"
      },
      "source": [
        "class Str8Dating():\n",
        "\n",
        "  def __init__(self, radius):\n",
        "\n",
        "    ## Getting 6 different city\n",
        "    self.city_names = ['Kolkata', 'Mumbai', 'Delhi', 'San Fransisco', 'New York', 'Los Angeles']\n",
        "    #Getting population in Million\n",
        "    self.population = [4.5, 12.48, 16.78, 0.88, 8.6, 3.97]\n",
        "    #Getting area in sq Km\n",
        "    self.area = [206.8, 603.0, 1484.0, 121.51, 468.19, 502.73] \n",
        "\n",
        "\n",
        "    #Getting population density in Million / sq. Km\n",
        "    self.population_density = np.divide(self.population, self.area) \n",
        "    #Getting datable area, input by user\n",
        "    self.datable_area = (22/7) * radius * radius \n",
        "    #Getting population within the area in Million\n",
        "    self.datable_population = np.array(self.population_density) * self.datable_area \n",
        "\n",
        "    self.datable_array = np.array(self.datable_population) / 2\n",
        "\n",
        "    #Age data\n",
        "    I18_24 = 11.13 / (24 - 18 + 1)\n",
        "    I25_44 = 27.6 / (44 - 25 + 1)\n",
        "    I45_64 = 13.5 / (64 - 45 + 1)\n",
        "    I65_80 = 4.8 / (80 - 65 + 1)\n",
        "    A18_24 = 9.9 / (24 - 18 + 1)\n",
        "    A25_44 = 26.6 / (44 - 25 + 1)\n",
        "    A45_64 = 26.4 / (64 - 45 + 1)\n",
        "    A65_80 = 13.0 / (80 - 65 + 1)\n",
        "\n",
        "    self.age_data = [[18, I18_24, A18_24], [19, I18_24, A18_24], [20, I18_24, A18_24], [21, I18_24, A18_24], [22, I18_24, A18_24], [23, I18_24, A18_24], [24, I18_24, A18_24],\n",
        "            [25, I25_44, A25_44], [26, I25_44, A25_44], [27, I25_44, A25_44], [28, I25_44, A25_44], [29, I25_44, A25_44], [30, I25_44, A25_44], [31, I25_44, A25_44], [32, I25_44, A25_44],\n",
        "            [33, I25_44, A25_44], [34, I25_44, A25_44], [35, I25_44, A25_44], [36, I25_44, A25_44], [37, I25_44, A25_44], [38, I25_44, A25_44], [39, I25_44, A25_44], [40, I25_44, A25_44],\n",
        "            [41, I25_44, A25_44], [42, I25_44, A25_44], [43, I25_44, A25_44], [44, I25_44, A25_44], \n",
        "            [45, I45_64, A45_64], [46, I45_64, A45_64], [47, I45_64, A45_64], [48, I45_64, A45_64], [49, I45_64, A45_64], [50, I45_64, A45_64], [51, I45_64, A45_64], [52, I45_64, A45_64],\n",
        "            [53, I45_64, A45_64], [54, I45_64, A45_64], [55, I45_64, A45_64], [56, I45_64, A45_64], [57, I45_64, A45_64], [58, I45_64, A45_64], [59, I45_64, A45_64], [60, I45_64, A45_64],\n",
        "            [61, I45_64, A45_64], [62, I45_64, A45_64], [63, I45_64, A45_64], [64, I45_64, A45_64],\n",
        "            [65, I65_80, A65_80], [66, I65_80, A65_80], [67, I65_80, A65_80], [68, I65_80, A65_80], [69, I65_80, A65_80], [70, I65_80, A65_80], [71, I65_80, A65_80], [72, I65_80, A65_80],\n",
        "            [73, I65_80, A65_80], [74, I65_80, A65_80], [75, I65_80, A65_80], [76, I65_80, A65_80], [77, I65_80, A65_80], [78, I65_80, A65_80], [79, I65_80, A65_80], [80, I65_80, A65_80]]\n",
        "    self.age_df = pd.DataFrame(self.age_data, columns=['age', 'india_per', 'usa_per'])\n",
        "    #print(self.age_df)\n",
        "\n",
        "  def marraige(self, decision):\n",
        "    if decision == 'y':\n",
        "      self.datable_array = np.array(self.datable_array) * 63 / 100   #According to match.com 63% of LGBT want to get marry, others do not\n",
        "    elif decision == 'n':\n",
        "      self.datable_array = np.array(self.datable_array) * 25 / 100\n",
        "    elif decision == 'ns':\n",
        "      self.datable_array = np.array(self.datable_array) * 12 / 100\n",
        "\n",
        "  def want_kid(self, decision):\n",
        "    if decision == 'y':\n",
        "      self.datable_array = np.array(self.datable_array) * 36 / 100\n",
        "    else:\n",
        "      self.datable_array = np.array(self.datable_array) * 64 / 100\n",
        "\n",
        "  def type_of_realtionship(self, decision):\n",
        "    #https://www.thecouplesstudy.com/wp-content/uploads/2016/08/CHOICES-Younger-Gay-Men-final-160812.pdf\n",
        "    if decision == 'monogamy':\n",
        "      self.datable_array = np.array(self.datable_array) * 83.5 / 100\n",
        "    elif decision == 'non':\n",
        "      self.datable_array = np.array(self.datable_array) * 16.5 / 100\n",
        "\n",
        "  def age_range(self, low, high):\n",
        "    #https://www.census.gov/prod/cen2010/briefs/c2010br-03.pdf\n",
        "    #https://censusindia.gov.in/Census_And_You/age_structure_and_marital_status.aspx\n",
        "    if low < 18:\n",
        "      return 0\n",
        "    else:\n",
        "      self.per_i = 0\n",
        "      self.per_a = 0\n",
        "      for i in range(low,high + 1):\n",
        "        self.per_i = self.per_i + float(self.age_df[self.age_df['age'] == i]['india_per'])\n",
        "        self.per_a = self.per_a + float(self.age_df[self.age_df['age'] == i]['usa_per'])\n",
        "      \n",
        "      self.age_per = [self.per_i, self.per_i, self.per_i, self.per_a, self.per_a, self.per_a]\n",
        "      self.datable_array = np.array(np.multiply(self.datable_array, self.age_per)) / 100\n",
        "\n",
        "  def r(self):\n",
        "    return self.datable_array"
      ],
      "execution_count": 10,
      "outputs": []
    },
    {
      "cell_type": "code",
      "metadata": {
        "colab": {
          "base_uri": "https://localhost:8080/"
        },
        "id": "ZNMPqS9-pVH-",
        "outputId": "c7fbe993-9226-4e1e-a365-2e3d5a5d202c"
      },
      "source": [
        "d = Str8Dating(5)\n",
        "d.marraige('y')\n",
        "d.want_kid('y')\n",
        "d.type_of_realtionship('monogamy')\n",
        "d.age_range(19, 26)\n",
        "n8 = d.r()\n",
        "n8 = np.array(n) * 1000000\n",
        "print(n8)"
      ],
      "execution_count": 11,
      "outputs": [
        {
          "output_type": "stream",
          "text": [
            "[7.04561374e+07 6.70122383e+07 3.66112795e+07 5.35078352e+08\n",
            " 3.96851747e+08 2.12737494e+08]\n"
          ],
          "name": "stdout"
        }
      ]
    },
    {
      "cell_type": "code",
      "metadata": {
        "id": "C4SkmT_Qpxuz"
      },
      "source": [
        "per = np.array(np.divide(n, n8)) / 100"
      ],
      "execution_count": 12,
      "outputs": []
    },
    {
      "cell_type": "code",
      "metadata": {
        "colab": {
          "base_uri": "https://localhost:8080/"
        },
        "id": "iFU34Bt1qK3v",
        "outputId": "936a26d4-bafd-4fcb-f3f6-5228b1edf178"
      },
      "source": [
        "print(per)"
      ],
      "execution_count": 13,
      "outputs": [
        {
          "output_type": "stream",
          "text": [
            "[1.e-08 1.e-08 1.e-08 1.e-08 1.e-08 1.e-08]\n"
          ],
          "name": "stdout"
        }
      ]
    },
    {
      "cell_type": "code",
      "metadata": {
        "id": "E5lPASYmqMZ-"
      },
      "source": [
        ""
      ],
      "execution_count": 13,
      "outputs": []
    }
  ]
}